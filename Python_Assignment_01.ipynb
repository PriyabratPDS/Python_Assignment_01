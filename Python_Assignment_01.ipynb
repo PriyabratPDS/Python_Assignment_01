{
 "cells": [
  {
   "cell_type": "markdown",
   "id": "cff4c89d",
   "metadata": {},
   "source": [
    "### 1. In the below elements which of them are values or an expression? eg:- values can be\n",
    "###    integer or string and expressions will be mathematical operators.\n",
    "###  *\n",
    "###  \"hello\" \n",
    "###  -87.8\n",
    "###  -\n",
    "###  /\n",
    "###  +\n",
    "###  6"
   ]
  },
  {
   "cell_type": "code",
   "execution_count": null,
   "id": "56712c20",
   "metadata": {},
   "outputs": [],
   "source": [
    "# Ans,\n",
    "\n",
    "\"\"\"\n",
    "  *      : expression i.e Arithmetic operator(multiplication)\n",
    "\n",
    "\"hello\"  : values i.e string datatype\n",
    "\n",
    "-87.8    : values i.e Numeric datatype(float)\n",
    "\n",
    "  -      : expression i.e Arithmetic operator(subtraction)\n",
    "  \n",
    "  /      : expression i.e Arithmetic operator(division)\n",
    "  \n",
    "  +      : expression i.e Arithmetic operator(addition)\n",
    "\n",
    "  6      : values i.e Numeric datatype(int)\n",
    "\n",
    "\n",
    "\n",
    "\n",
    "\"\"\""
   ]
  },
  {
   "cell_type": "code",
   "execution_count": null,
   "id": "a6aac54e",
   "metadata": {},
   "outputs": [],
   "source": []
  },
  {
   "cell_type": "markdown",
   "id": "0c78d7c5",
   "metadata": {},
   "source": [
    "### 2. What is the difference between string and variable?"
   ]
  },
  {
   "cell_type": "code",
   "execution_count": null,
   "id": "ba2d529a",
   "metadata": {},
   "outputs": [],
   "source": [
    "# Ans,\n",
    "\n",
    "\"\"\"\n",
    "--> string : 1,Its a datatype.\n",
    "             2,sequence or collection of one or more character put in a single/double quotes/triple quotes.\n",
    "\n",
    "\n",
    "--> variable : 1,symbolic name act as reference or pointer to an object.\n",
    "               2,we assign datatypes i.e lets say string to a variable so that values can be stored and \n",
    "                 whenever i need that value i can call the variable.\n",
    "                 \n",
    "--> Example :   a -> variable\n",
    "                values(datatype) --> string\n",
    "     \n",
    "     \n",
    "    a = \"priyabrat\" --> assigning string to a variable 'a'.\n",
    "\n",
    "\n",
    "\n",
    "\"\"\""
   ]
  },
  {
   "cell_type": "code",
   "execution_count": null,
   "id": "e567bc8b",
   "metadata": {},
   "outputs": [],
   "source": []
  },
  {
   "cell_type": "markdown",
   "id": "46e364de",
   "metadata": {},
   "source": [
    "### 3. Describe three different data types."
   ]
  },
  {
   "cell_type": "code",
   "execution_count": null,
   "id": "1f83ab0b",
   "metadata": {},
   "outputs": [],
   "source": [
    "# Ans\n",
    "\n",
    "\"\"\"\n",
    "3 datatypes : 1,Numeric datatype\n",
    "              2,sequence datatype\n",
    "              3,set datatype\n",
    "              \n",
    "---> Numeric datatype : 1, Numeric datatype has 3 datatypes.( 1,int  2,float 3,complex)\n",
    "         \n",
    "         -->1,int datatype     : whole number(not fraction),can be positive, negative ,zero without decimal.\n",
    "         -->2,float datatype   :real numbers has a decimal place.\n",
    "         -->3,complex datatype : two parts i.e (Real + Imaginary)parts\n",
    "                               :eg, 3+5j -- real part:3\n",
    "                                         -- imaginary part : 5j\n",
    "                                         -- here 3 & 5 are real numbers.\n",
    "\n",
    "---> sequence datatype : 1, order collection of datatypes(same & different).\n",
    "                         2, sequence datatype has 3 datatypes.(1,List 2,string 3,Tuple)\n",
    "           \n",
    "           -->1, List datatype : 1,order sequence of items\n",
    "                                 2,Mutable(i.e can change its contents)\n",
    "                                 3,defined by '[]' square bracket\n",
    "                                 4,comma seperated\n",
    "                                 5,heterogenous(can store multiple datatype)\n",
    "                                 6,very flexible\n",
    "                                 7, eg : l = [1,2,3,\"priyabrat\",{1,\"er\"}]\n",
    "           \n",
    "           -->2, string datatype : 1,order sequence of items\n",
    "                                   2,collection of one or more character inside single/double/triple quotes.\n",
    "                                   3,Immutable(cant change its contents)\n",
    "                                   4, eg : a = \"priyabrat parida\"\n",
    "            \n",
    "            \n",
    "            -->3, tuple datatype : 1,order sequence of items\n",
    "                                   2,Immutable\n",
    "                                   3,defined by parenthesis or round bracket '()'\n",
    "                                   4,Heterogenous\n",
    "                                   5,coma seperated\n",
    "                                   6,tuple : fast access , list : slow access\n",
    "                                      (Tuple are immuatble so stored in single block of memory as it doesnt require\n",
    "                                         extra space to store new objects)\n",
    "\n",
    "---> Set datatype :1,unordered datatype i.e unordered collection of items\n",
    "                   2,Mutable\n",
    "                   3,defined by curly braces '{}'\n",
    "                   4,unique(no duplicates) items\n",
    "                   5,As unordered so unindexed(cant get elements by index number)\n",
    "\n",
    "\n",
    "\n",
    "\n",
    "\"\"\""
   ]
  },
  {
   "cell_type": "code",
   "execution_count": null,
   "id": "7a616abc",
   "metadata": {},
   "outputs": [],
   "source": []
  },
  {
   "cell_type": "markdown",
   "id": "80181102",
   "metadata": {},
   "source": [
    "### 4. What is an expression made up of? What do all expressions do?"
   ]
  },
  {
   "cell_type": "code",
   "execution_count": null,
   "id": "5496974e",
   "metadata": {},
   "outputs": [],
   "source": [
    "# Ans\n",
    "\n",
    "\"\"\"\n",
    "Expression : 1,python program components to write a logical line of code to get the result\n",
    "             2,Expression is made up of Identifiers,operators,operand.\n",
    "               --> 2.1 , Identifier : use for naming purpose for variable,class,method,function\n",
    "               --> 2.2 , operators :symbols that perform arithmetic or logical computation on operands\n",
    "               --> 2.3 , operand : object that is operated on\n",
    "               \n",
    "        --> Eg, a = 5          # a statement(creating a varible)\n",
    "                a = a + 105      # an expression\n",
    "                \n",
    "                a : variable/identifier\n",
    "                + : operator\n",
    "              105 : operand\n",
    "\n",
    "Expression is evaluted for some result i.e after being interpreted by the Python interpreter               \n",
    "\n",
    "\"\"\""
   ]
  },
  {
   "cell_type": "code",
   "execution_count": null,
   "id": "81ae8e25",
   "metadata": {},
   "outputs": [],
   "source": []
  },
  {
   "cell_type": "markdown",
   "id": "4f58aeb0",
   "metadata": {},
   "source": [
    "### 5. This assignment statements, like spam = 10. What is the difference between an expression and a statement?"
   ]
  },
  {
   "cell_type": "code",
   "execution_count": null,
   "id": "0cc59725",
   "metadata": {},
   "outputs": [],
   "source": [
    "# Ans,\n",
    "\n",
    "\"\"\"\n",
    "statement : statement is used for creating varibals not evaluated for specific result.\n",
    "          : eg , a = 10\n",
    "\n",
    "expression : combination of identifier,operator,operand so that it can be evaluted for result after being interpreted by python \n",
    "             interpretor.\n",
    "             \n",
    "             eg , a = 10 -- > statements\n",
    "                  a = a + 10 --> expression\n",
    "                  print(a) --> 20\n",
    "                  (here 1st statement is initiated then after with the help of expression i.e we add 10 with the operator('+')\n",
    "                  to varible 'a' which is assigned to a value of 10 in statement) so now  we are supposed to get the new\n",
    "                  value of 'a' variable.\n",
    "\n",
    "\"\"\""
   ]
  },
  {
   "cell_type": "code",
   "execution_count": null,
   "id": "eca5c591",
   "metadata": {},
   "outputs": [],
   "source": []
  },
  {
   "cell_type": "markdown",
   "id": "773b2ff8",
   "metadata": {},
   "source": [
    "### 6. After running the following code, what does the variable bacon contain?\n",
    "###  bacon = 22\n",
    "###  bacon + 1"
   ]
  },
  {
   "cell_type": "code",
   "execution_count": 2,
   "id": "14971b90",
   "metadata": {},
   "outputs": [
    {
     "data": {
      "text/plain": [
       "23"
      ]
     },
     "execution_count": 2,
     "metadata": {},
     "output_type": "execute_result"
    }
   ],
   "source": [
    "bacon = 22\n",
    "bacon + 1"
   ]
  },
  {
   "cell_type": "code",
   "execution_count": 3,
   "id": "f42738c1",
   "metadata": {},
   "outputs": [
    {
     "name": "stdout",
     "output_type": "stream",
     "text": [
      "22\n"
     ]
    }
   ],
   "source": [
    "\"\"\"\n",
    "variable bacon coantain 22 i.e bacon = 22\n",
    "because we didnt assigned result to a variable so it will remain the same.so no new value bacon contain.\n",
    "\n",
    "\"\"\"\n",
    "print(bacon)"
   ]
  },
  {
   "cell_type": "code",
   "execution_count": null,
   "id": "5ff55118",
   "metadata": {},
   "outputs": [],
   "source": []
  },
  {
   "cell_type": "markdown",
   "id": "05277495",
   "metadata": {},
   "source": [
    "### 7. What should the values of the following two terms be?\n",
    "\n",
    "### 'spam'+'spamspam'\n",
    "### 'spam'*3"
   ]
  },
  {
   "cell_type": "code",
   "execution_count": 4,
   "id": "f8c43930",
   "metadata": {},
   "outputs": [
    {
     "data": {
      "text/plain": [
       "'spamspamspam'"
      ]
     },
     "execution_count": 4,
     "metadata": {},
     "output_type": "execute_result"
    }
   ],
   "source": [
    "'spam'+'spamspam'"
   ]
  },
  {
   "cell_type": "code",
   "execution_count": 5,
   "id": "a0069780",
   "metadata": {},
   "outputs": [
    {
     "data": {
      "text/plain": [
       "'spamspamspam'"
      ]
     },
     "execution_count": 5,
     "metadata": {},
     "output_type": "execute_result"
    }
   ],
   "source": [
    "'spam'*3"
   ]
  },
  {
   "cell_type": "code",
   "execution_count": null,
   "id": "161730ad",
   "metadata": {},
   "outputs": [],
   "source": [
    "\"\"\" The following two terms are returning  the same values.\"\"\""
   ]
  },
  {
   "cell_type": "code",
   "execution_count": null,
   "id": "4f9d9f8b",
   "metadata": {},
   "outputs": [],
   "source": []
  },
  {
   "cell_type": "markdown",
   "id": "0d520da3",
   "metadata": {},
   "source": [
    "### 8. Why is eggs a valid variable name while 100 is invalid?"
   ]
  },
  {
   "cell_type": "code",
   "execution_count": null,
   "id": "20dd2f5a",
   "metadata": {},
   "outputs": [],
   "source": [
    "# Ans\n",
    "\n",
    "\"\"\"\n",
    "-->while creating a variable name there are some rules/logic we need to follow :-\n",
    "1,variable name can start with alphabets never with numeric.\n",
    "2,we can add numeric after starting with alphabets.\n",
    "3,if we assign to only numeric i.e literal ,it will through syntax error. \n",
    "4,no space b/w variable name,we can use underscore(eg, about_us)\n",
    "5,underscore can be used at starting also but no other special characters(eg, _abc)\n",
    "\n",
    "\n",
    "\n",
    "\"\"\""
   ]
  },
  {
   "cell_type": "code",
   "execution_count": null,
   "id": "b14f2da7",
   "metadata": {},
   "outputs": [],
   "source": []
  },
  {
   "cell_type": "code",
   "execution_count": null,
   "id": "b0dda419",
   "metadata": {},
   "outputs": [],
   "source": []
  },
  {
   "cell_type": "markdown",
   "id": "700b5e42",
   "metadata": {},
   "source": [
    "### 9. What three functions can be used to get the integer, floating-point number, or string version of a value?"
   ]
  },
  {
   "cell_type": "code",
   "execution_count": 1,
   "id": "c8edb5c1",
   "metadata": {},
   "outputs": [],
   "source": [
    "value = 10"
   ]
  },
  {
   "cell_type": "code",
   "execution_count": 2,
   "id": "99b8fcdf",
   "metadata": {},
   "outputs": [
    {
     "name": "stdout",
     "output_type": "stream",
     "text": [
      "<class 'int'> -- 10\n"
     ]
    }
   ],
   "source": [
    "# 1, int()\n",
    "\n",
    "a = int(value)\n",
    "print(type(a) , '--' , a)"
   ]
  },
  {
   "cell_type": "code",
   "execution_count": 3,
   "id": "2273cd30",
   "metadata": {},
   "outputs": [
    {
     "name": "stdout",
     "output_type": "stream",
     "text": [
      "<class 'float'> -- 10.0\n"
     ]
    }
   ],
   "source": [
    "# 2,float()\n",
    "x = float(value)\n",
    "print(type(x) , '--' , x)"
   ]
  },
  {
   "cell_type": "code",
   "execution_count": 4,
   "id": "5f44b312",
   "metadata": {},
   "outputs": [
    {
     "name": "stdout",
     "output_type": "stream",
     "text": [
      "<class 'str'> -- 10\n"
     ]
    }
   ],
   "source": [
    "# 3,str()\n",
    "y = str(value)\n",
    "print(type(y) , '--' , y)"
   ]
  },
  {
   "cell_type": "code",
   "execution_count": null,
   "id": "f2cd57e3",
   "metadata": {},
   "outputs": [],
   "source": [
    "# or"
   ]
  },
  {
   "cell_type": "code",
   "execution_count": 9,
   "id": "8c6e3146",
   "metadata": {},
   "outputs": [
    {
     "name": "stdout",
     "output_type": "stream",
     "text": [
      "<class 'int'> 0\n"
     ]
    }
   ],
   "source": [
    "# 1,int()\n",
    "b = int()\n",
    "print(type(b),b)"
   ]
  },
  {
   "cell_type": "code",
   "execution_count": 10,
   "id": "12f234fa",
   "metadata": {},
   "outputs": [
    {
     "name": "stdout",
     "output_type": "stream",
     "text": [
      "<class 'float'> 0.0\n"
     ]
    }
   ],
   "source": [
    "# 2,float()\n",
    "c = float()\n",
    "print(type(c),c)"
   ]
  },
  {
   "cell_type": "code",
   "execution_count": 15,
   "id": "0f52f8c7",
   "metadata": {},
   "outputs": [
    {
     "name": "stdout",
     "output_type": "stream",
     "text": [
      "<class 'str'>\n"
     ]
    },
    {
     "data": {
      "text/plain": [
       "''"
      ]
     },
     "execution_count": 15,
     "metadata": {},
     "output_type": "execute_result"
    }
   ],
   "source": [
    "# 3,str()\n",
    "d = str()\n",
    "print(type(d))\n",
    "d"
   ]
  },
  {
   "cell_type": "code",
   "execution_count": null,
   "id": "e721795e",
   "metadata": {},
   "outputs": [],
   "source": []
  },
  {
   "cell_type": "code",
   "execution_count": null,
   "id": "8f124d30",
   "metadata": {},
   "outputs": [],
   "source": []
  },
  {
   "cell_type": "code",
   "execution_count": null,
   "id": "68fe9135",
   "metadata": {},
   "outputs": [],
   "source": []
  },
  {
   "cell_type": "markdown",
   "id": "33d28c97",
   "metadata": {},
   "source": [
    "### 10. Why does this expression cause an error? How can you fix it?\n",
    "###  'I have eaten ' + 99 + ' burritos'"
   ]
  },
  {
   "cell_type": "code",
   "execution_count": 8,
   "id": "e4d613af",
   "metadata": {},
   "outputs": [
    {
     "data": {
      "text/plain": [
       "'I have eaten 99 burritos'"
      ]
     },
     "execution_count": 8,
     "metadata": {},
     "output_type": "execute_result"
    }
   ],
   "source": [
    "# Ans,\n",
    "\"\"\"\n",
    "--->This expression will through error because we cant concatenate string datatype with int datatype.\n",
    "\n",
    "\n",
    "---> we can fix it by typecasting the int datatype to string datatype.\n",
    "\n",
    "\"\"\"\n",
    "\n",
    "'I have eaten ' + str(99) + ' burritos'"
   ]
  },
  {
   "cell_type": "code",
   "execution_count": null,
   "id": "d3066c57",
   "metadata": {},
   "outputs": [],
   "source": []
  },
  {
   "cell_type": "code",
   "execution_count": null,
   "id": "74ac6fde",
   "metadata": {},
   "outputs": [],
   "source": []
  },
  {
   "cell_type": "code",
   "execution_count": null,
   "id": "652d37ba",
   "metadata": {},
   "outputs": [],
   "source": []
  },
  {
   "cell_type": "code",
   "execution_count": null,
   "id": "df815671",
   "metadata": {},
   "outputs": [],
   "source": []
  },
  {
   "cell_type": "code",
   "execution_count": null,
   "id": "d5d84733",
   "metadata": {},
   "outputs": [],
   "source": []
  }
 ],
 "metadata": {
  "kernelspec": {
   "display_name": "Python 3 (ipykernel)",
   "language": "python",
   "name": "python3"
  },
  "language_info": {
   "codemirror_mode": {
    "name": "ipython",
    "version": 3
   },
   "file_extension": ".py",
   "mimetype": "text/x-python",
   "name": "python",
   "nbconvert_exporter": "python",
   "pygments_lexer": "ipython3",
   "version": "3.9.12"
  }
 },
 "nbformat": 4,
 "nbformat_minor": 5
}
